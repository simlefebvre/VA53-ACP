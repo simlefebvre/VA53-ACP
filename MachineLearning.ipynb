{
 "cells": [
  {
   "cell_type": "code",
   "execution_count": 2,
   "metadata": {},
   "outputs": [],
   "source": [
    "import tensorflow as tf\n",
    "import numpy as np\n",
    "import cv2 as cv\n",
    "import matplotlib.pyplot as plt\n",
    "import os\n",
    "from nameList import class_names"
   ]
  },
  {
   "cell_type": "code",
   "execution_count": 7,
   "metadata": {},
   "outputs": [],
   "source": [
    "# Read image from file\n",
    "def lecture_image(nom_image : str) -> np.ndarray:\n",
    "    \"\"\"A partir d'un nom de fichier renvoie l'image sous forme de tableau numpy\"\"\"\n",
    "    image = cv.imread(f\"DataSet/DataSetPostTraitement/{nom_image}\",0)\n",
    "    img = cv.resize(image, (50, 50), interpolation=cv.INTER_AREA)\n",
    "    return img"
   ]
  },
  {
   "cell_type": "code",
   "execution_count": 8,
   "metadata": {},
   "outputs": [],
   "source": [
    "def extractImagesAndLabels(path : str) -> list:\n",
    "    \"\"\"A partir d'un chemin renvoie la liste des fichiers\"\"\"\n",
    "    Lnom = os.listdir(path)\n",
    "    Lnom.remove('test')\n",
    "\n",
    "    train_images = np.array([lecture_image(nom_image) for nom_image in Lnom]) #Récupération des images\n",
    "    train_labels = np.array([int(nom_image.split(\"_\")[0]) for nom_image in Lnom]) #Récupération des labels\n",
    "\n",
    "    Lnom = os.listdir(path+\"/test/\")\n",
    "    test_images = np.array([lecture_image(\"/test/\" + nom_image) for nom_image in Lnom]) #Récupération des images\n",
    "    test_labels = np.array([int(nom_image.split(\"_\")[0]) for nom_image in Lnom]) #Récupération des labels\n",
    "\n",
    "    #Normalisation des images\n",
    "    train_images = train_images / 255.0\n",
    "    test_images = test_images / 255.0\n",
    "\n",
    "    return train_images, train_labels, test_images, test_labels\n",
    "\n",
    "train_images, train_labels, test_images, test_labels = extractImagesAndLabels(\"DataSet/DataSetPostTraitement/\")\n"
   ]
  },
  {
   "cell_type": "code",
   "execution_count": null,
   "metadata": {},
   "outputs": [],
   "source": [
    "plt.figure(figsize=(10,10))\n",
    "for i in range(25):\n",
    "    plt.subplot(5,5,i+1)\n",
    "    plt.xticks([])\n",
    "    plt.yticks([])\n",
    "    plt.grid(False)\n",
    "    plt.imshow(train_images[i], cmap='gray')\n",
    "    plt.xlabel(class_names[train_labels[i]])"
   ]
  },
  {
   "cell_type": "code",
   "execution_count": 11,
   "metadata": {},
   "outputs": [
    {
     "name": "stdout",
     "output_type": "stream",
     "text": [
      "Epoch 1/45\n",
      "3/3 [==============================] - 0s 17ms/step - loss: 3.6905 - accuracy: 0.0597\n",
      "Epoch 2/45\n",
      "3/3 [==============================] - 0s 18ms/step - loss: 3.2190 - accuracy: 0.1940\n",
      "Epoch 3/45\n",
      "3/3 [==============================] - 0s 18ms/step - loss: 3.1914 - accuracy: 0.1493\n",
      "Epoch 4/45\n",
      "3/3 [==============================] - 0s 20ms/step - loss: 2.4803 - accuracy: 0.1493\n",
      "Epoch 5/45\n",
      "3/3 [==============================] - 0s 19ms/step - loss: 2.3628 - accuracy: 0.2090\n",
      "Epoch 6/45\n",
      "3/3 [==============================] - 0s 17ms/step - loss: 1.9702 - accuracy: 0.3881\n",
      "Epoch 7/45\n",
      "3/3 [==============================] - 0s 18ms/step - loss: 2.0333 - accuracy: 0.3134\n",
      "Epoch 8/45\n",
      "3/3 [==============================] - 0s 19ms/step - loss: 1.4699 - accuracy: 0.6418\n",
      "Epoch 9/45\n",
      "3/3 [==============================] - 0s 17ms/step - loss: 1.5368 - accuracy: 0.6119\n",
      "Epoch 10/45\n",
      "3/3 [==============================] - 0s 18ms/step - loss: 1.3908 - accuracy: 0.5970\n",
      "Epoch 11/45\n",
      "3/3 [==============================] - 0s 16ms/step - loss: 1.0933 - accuracy: 0.7612\n",
      "Epoch 12/45\n",
      "3/3 [==============================] - 0s 19ms/step - loss: 0.9681 - accuracy: 0.7761\n",
      "Epoch 13/45\n",
      "3/3 [==============================] - 0s 22ms/step - loss: 0.7655 - accuracy: 0.7313\n",
      "Epoch 14/45\n",
      "3/3 [==============================] - 0s 19ms/step - loss: 0.8047 - accuracy: 0.7164\n",
      "Epoch 15/45\n",
      "3/3 [==============================] - 0s 18ms/step - loss: 0.7029 - accuracy: 0.7612\n",
      "Epoch 16/45\n",
      "3/3 [==============================] - 0s 18ms/step - loss: 0.4807 - accuracy: 0.9254\n",
      "Epoch 17/45\n",
      "3/3 [==============================] - 0s 18ms/step - loss: 0.4695 - accuracy: 0.9104\n",
      "Epoch 18/45\n",
      "3/3 [==============================] - 0s 19ms/step - loss: 0.3661 - accuracy: 0.8955\n",
      "Epoch 19/45\n",
      "3/3 [==============================] - 0s 19ms/step - loss: 0.2983 - accuracy: 0.9552\n",
      "Epoch 20/45\n",
      "3/3 [==============================] - 0s 18ms/step - loss: 0.3041 - accuracy: 0.9403\n",
      "Epoch 21/45\n",
      "3/3 [==============================] - 0s 19ms/step - loss: 0.4027 - accuracy: 0.9254\n",
      "Epoch 22/45\n",
      "3/3 [==============================] - 0s 17ms/step - loss: 0.2175 - accuracy: 0.9254\n",
      "Epoch 23/45\n",
      "3/3 [==============================] - 0s 16ms/step - loss: 0.2891 - accuracy: 0.8955\n",
      "Epoch 24/45\n",
      "3/3 [==============================] - 0s 19ms/step - loss: 0.1625 - accuracy: 0.9701\n",
      "Epoch 25/45\n",
      "3/3 [==============================] - 0s 20ms/step - loss: 0.1494 - accuracy: 1.0000\n",
      "Epoch 26/45\n",
      "3/3 [==============================] - 0s 19ms/step - loss: 0.1567 - accuracy: 0.9701\n",
      "Epoch 27/45\n",
      "3/3 [==============================] - 0s 17ms/step - loss: 0.0792 - accuracy: 1.0000\n",
      "Epoch 28/45\n",
      "3/3 [==============================] - 0s 17ms/step - loss: 0.0532 - accuracy: 1.0000\n",
      "Epoch 29/45\n",
      "3/3 [==============================] - 0s 18ms/step - loss: 0.0672 - accuracy: 0.9851\n",
      "Epoch 30/45\n",
      "3/3 [==============================] - 0s 17ms/step - loss: 0.0614 - accuracy: 1.0000\n",
      "Epoch 31/45\n",
      "3/3 [==============================] - 0s 17ms/step - loss: 0.0432 - accuracy: 1.0000\n",
      "Epoch 32/45\n",
      "3/3 [==============================] - 0s 19ms/step - loss: 0.0314 - accuracy: 1.0000\n",
      "Epoch 33/45\n",
      "3/3 [==============================] - 0s 19ms/step - loss: 0.0262 - accuracy: 1.0000\n",
      "Epoch 34/45\n",
      "3/3 [==============================] - 0s 18ms/step - loss: 0.0256 - accuracy: 1.0000\n",
      "Epoch 35/45\n",
      "3/3 [==============================] - 0s 16ms/step - loss: 0.0300 - accuracy: 1.0000\n",
      "Epoch 36/45\n",
      "3/3 [==============================] - 0s 18ms/step - loss: 0.0274 - accuracy: 1.0000\n",
      "Epoch 37/45\n",
      "3/3 [==============================] - 0s 18ms/step - loss: 0.0214 - accuracy: 1.0000\n",
      "Epoch 38/45\n",
      "3/3 [==============================] - 0s 18ms/step - loss: 0.0185 - accuracy: 1.0000\n",
      "Epoch 39/45\n",
      "3/3 [==============================] - 0s 18ms/step - loss: 0.0164 - accuracy: 1.0000\n",
      "Epoch 40/45\n",
      "3/3 [==============================] - 0s 19ms/step - loss: 0.0146 - accuracy: 1.0000\n",
      "Epoch 41/45\n",
      "3/3 [==============================] - 0s 17ms/step - loss: 0.0140 - accuracy: 1.0000\n",
      "Epoch 42/45\n",
      "3/3 [==============================] - 0s 17ms/step - loss: 0.0135 - accuracy: 1.0000\n",
      "Epoch 43/45\n",
      "3/3 [==============================] - 0s 17ms/step - loss: 0.0117 - accuracy: 1.0000\n",
      "Epoch 44/45\n",
      "3/3 [==============================] - 0s 19ms/step - loss: 0.0101 - accuracy: 1.0000\n",
      "Epoch 45/45\n",
      "3/3 [==============================] - 0s 17ms/step - loss: 0.0122 - accuracy: 1.0000\n",
      "Model: \"sequential_2\"\n",
      "_________________________________________________________________\n",
      " Layer (type)                Output Shape              Param #   \n",
      "=================================================================\n",
      " flatten_2 (Flatten)         (None, 2500)              0         \n",
      "                                                                 \n",
      " dense_6 (Dense)             (None, 1000)              2501000   \n",
      "                                                                 \n",
      " dense_7 (Dense)             (None, 1000)              1001000   \n",
      "                                                                 \n",
      " dense_8 (Dense)             (None, 15)                15015     \n",
      "                                                                 \n",
      "=================================================================\n",
      "Total params: 3,517,015\n",
      "Trainable params: 3,517,015\n",
      "Non-trainable params: 0\n",
      "_________________________________________________________________\n"
     ]
    }
   ],
   "source": [
    "\n",
    "def generateModel(train_images, train_labels, nbEpochs) -> tf.keras.Sequential:\n",
    "    \"\"\"Création du modèle\"\"\"\n",
    "    #Construire le modèle\n",
    "    model = tf.keras.Sequential([\n",
    "        tf.keras.layers.Flatten(input_shape=(50, 50)),\n",
    "        tf.keras.layers.Dense(1000, activation='relu'),\n",
    "        tf.keras.layers.Dense(1000, activation='relu'),\n",
    "        tf.keras.layers.Dense(15)\n",
    "    ])\n",
    "\n",
    "    #Compiler le modèle\n",
    "    model.compile(optimizer='adam',\n",
    "                loss=tf.keras.losses.SparseCategoricalCrossentropy(from_logits=True),\n",
    "                metrics=['accuracy'])\n",
    "\n",
    "    #Entrainer le modèle\n",
    "    model.fit(train_images, train_labels, epochs=nbEpochs)\n",
    "\n",
    "    return model\n",
    "\n",
    "nbEpochs = 45\n",
    "model = generateModel(train_images, train_labels, nbEpochs)\n",
    "\n",
    "#Display the model's architecture\n",
    "model.summary()"
   ]
  },
  {
   "cell_type": "code",
   "execution_count": 12,
   "metadata": {},
   "outputs": [
    {
     "name": "stdout",
     "output_type": "stream",
     "text": [
      "1/1 - 0s - loss: 0.0747 - accuracy: 1.0000 - 151ms/epoch - 151ms/step\n",
      "\n",
      "Test accuracy: 1.0\n"
     ]
    }
   ],
   "source": [
    "test_loss, test_acc = model.evaluate(test_images,  test_labels, verbose=2)\n",
    "print('\\nTest accuracy:', test_acc)"
   ]
  },
  {
   "cell_type": "code",
   "execution_count": 13,
   "metadata": {},
   "outputs": [
    {
     "name": "stdout",
     "output_type": "stream",
     "text": [
      "1/1 [==============================] - 0s 158ms/step\n"
     ]
    }
   ],
   "source": [
    "def makePrediction(model, test_images, test_labels) -> tf.keras.Sequential:\n",
    "    \"\"\"Calculer les prédictions\"\"\"\n",
    "    probability_model = tf.keras.Sequential([model, tf.keras.layers.Softmax()])\n",
    "    predictions = probability_model.predict(test_images)\n",
    "    return predictions\n",
    "\n",
    "predictions = makePrediction(model, test_images, test_labels)"
   ]
  },
  {
   "cell_type": "code",
   "execution_count": 14,
   "metadata": {},
   "outputs": [],
   "source": [
    "def plot_image(i, predictions_array, true_label, img):\n",
    "  true_label, img = true_label[i], img[i]\n",
    "  plt.grid(False)\n",
    "  plt.xticks([])\n",
    "  plt.yticks([])\n",
    "\n",
    "  plt.imshow(img, cmap='gray')\n",
    "\n",
    "  predicted_label = np.argmax(predictions_array)\n",
    "  if predicted_label == true_label:\n",
    "    color = 'blue'\n",
    "  else:\n",
    "    color = 'red'\n",
    "\n",
    "  plt.xlabel(\"{} {:2.0f}% ({})\".format(class_names[predicted_label],\n",
    "                                100*np.max(predictions_array),\n",
    "                                class_names[true_label]),\n",
    "                                color=color)\n",
    "\n",
    "def plot_value_array(i, predictions_array, true_label):\n",
    "  true_label = true_label[i]\n",
    "  plt.grid(False)\n",
    "  plt.xticks(range(15))\n",
    "  plt.yticks([])\n",
    "  thisplot = plt.bar(range(15), predictions_array, color=\"#777777\")\n",
    "  plt.ylim([0, 1])\n",
    "  predicted_label = np.argmax(predictions_array)\n",
    "\n",
    "  thisplot[predicted_label].set_color('red')\n",
    "  thisplot[true_label].set_color('blue')"
   ]
  },
  {
   "cell_type": "code",
   "execution_count": null,
   "metadata": {},
   "outputs": [],
   "source": [
    "i = 12\n",
    "plt.figure(figsize=(10,3))\n",
    "plt.subplot(1,2,1)\n",
    "plot_image(i, predictions[i], test_labels, test_images)\n",
    "plt.subplot(1,2,2)\n",
    "plot_value_array(i, predictions[i],  test_labels)\n",
    "plt.show()"
   ]
  },
  {
   "cell_type": "code",
   "execution_count": null,
   "metadata": {},
   "outputs": [],
   "source": [
    "# Plot the first X test images, their predicted labels, and the true labels.\n",
    "# Color correct predictions in blue and incorrect predictions in red.\n",
    "num_rows = 7\n",
    "num_cols = 3\n",
    "num_images = num_rows*num_cols\n",
    "plt.figure(figsize=(3*2*num_cols, 2*num_rows))\n",
    "for i in range(num_images):\n",
    "  plt.subplot(num_rows, 2*num_cols, 2*i+1)\n",
    "  plot_image(i, predictions[i], test_labels, test_images)\n",
    "  plt.subplot(num_rows, 2*num_cols, 2*i+2)\n",
    "  plot_value_array(i, predictions[i], test_labels)\n",
    "plt.tight_layout()\n",
    "plt.show()"
   ]
  }
 ],
 "metadata": {
  "kernelspec": {
   "display_name": "Python 3.10.4 64-bit",
   "language": "python",
   "name": "python3"
  },
  "language_info": {
   "codemirror_mode": {
    "name": "ipython",
    "version": 3
   },
   "file_extension": ".py",
   "mimetype": "text/x-python",
   "name": "python",
   "nbconvert_exporter": "python",
   "pygments_lexer": "ipython3",
   "version": "3.10.4"
  },
  "orig_nbformat": 4,
  "vscode": {
   "interpreter": {
    "hash": "be7e0332046cca4ed986269977c3590ee7b21eddcb5506bde79edd8a43b88a25"
   }
  }
 },
 "nbformat": 4,
 "nbformat_minor": 2
}
